{
 "cells": [
  {
   "cell_type": "markdown",
   "metadata": {
    "id": "BwBxTmh3Am9J"
   },
   "source": [
    "### Задание\n",
    "\n",
    "1) Модифицируйте код и реализуйте [Wasserstein GAN](https://arxiv.org/abs/1701.07875) ([From GAN to WGAN\n",
    "](https://lilianweng.github.io/posts/2017-08-20-gan/)) используя weight clipping. (1 балл)\n",
    "\n",
    "2) Замените  weight clipping на [gradient penalty](https://arxiv.org/pdf/1704.00028v3.pdf). (1 балл)\n",
    "\n",
    "3) Добавьте к обучению WGAN условие на метку, продемонстрируйте [условную генерацию](https://arxiv.org/pdf/1411.1784.pdf).  (1 балл)\n",
    "\n",
    "Напишите отчет о том, что попробовали, какие результаты получили, какую архитектуру использовали, как вам кажется надо обучать GAN, чтобы добиться сходимости? Каждый пункт обязательно сопроводите визуализациями."
   ]
  },
  {
   "cell_type": "code",
   "execution_count": 81,
   "metadata": {
    "id": "jvhaRP7tAm9E"
   },
   "outputs": [],
   "source": [
    "import torch\n",
    "import torch.nn as nn\n",
    "import torch.nn.functional as F\n",
    "import torch.optim as optim\n",
    "from torch.utils.data import DataLoader, Dataset\n",
    "\n",
    "import torchvision\n",
    "import matplotlib.pyplot as plt\n",
    "import numpy as np\n",
    "\n",
    "import warnings\n",
    "import progressbar\n",
    "from tqdm import tqdm\n",
    "\n",
    "import torch.autograd as autograd\n",
    "from torch.autograd import Variable\n",
    "\n",
    "warnings.filterwarnings('ignore')\n",
    "%matplotlib inline"
   ]
  },
  {
   "cell_type": "code",
   "execution_count": 25,
   "metadata": {
    "id": "O1jx4dNAAm9G"
   },
   "outputs": [],
   "source": [
    "class Config:\n",
    "    pass\n",
    "\n",
    "config = Config()\n",
    "config.mnist_path = None\n",
    "config.batch_size = 16\n",
    "config.num_workers = 3\n",
    "config.num_epochs = 10\n",
    "config.noise_size = 50\n",
    "config.print_freq = 100"
   ]
  },
  {
   "cell_type": "code",
   "execution_count": 3,
   "metadata": {
    "colab": {
     "base_uri": "https://localhost:8080/"
    },
    "id": "qub7m0RoAm9H",
    "outputId": "fcb7b204-cd39-46bc-f8b2-2c05fbb79cf2"
   },
   "outputs": [
    {
     "name": "stdout",
     "output_type": "stream",
     "text": [
      "Downloading http://fashion-mnist.s3-website.eu-central-1.amazonaws.com/train-images-idx3-ubyte.gz\n",
      "Downloading http://fashion-mnist.s3-website.eu-central-1.amazonaws.com/train-images-idx3-ubyte.gz to fashion_mnist/FashionMNIST/raw/train-images-idx3-ubyte.gz\n"
     ]
    },
    {
     "name": "stderr",
     "output_type": "stream",
     "text": [
      "100%|█████████████████████████████████████████████████████████████████████████████████████████████████████████████████████████████| 26.4M/26.4M [00:46<00:00, 564kB/s]\n"
     ]
    },
    {
     "name": "stdout",
     "output_type": "stream",
     "text": [
      "Extracting fashion_mnist/FashionMNIST/raw/train-images-idx3-ubyte.gz to fashion_mnist/FashionMNIST/raw\n",
      "\n",
      "Downloading http://fashion-mnist.s3-website.eu-central-1.amazonaws.com/train-labels-idx1-ubyte.gz\n",
      "Downloading http://fashion-mnist.s3-website.eu-central-1.amazonaws.com/train-labels-idx1-ubyte.gz to fashion_mnist/FashionMNIST/raw/train-labels-idx1-ubyte.gz\n"
     ]
    },
    {
     "name": "stderr",
     "output_type": "stream",
     "text": [
      "100%|████████████████████████████████████████████████████████████████████████████████████████████████████████████████████████████| 29.5k/29.5k [00:01<00:00, 23.3kB/s]\n"
     ]
    },
    {
     "name": "stdout",
     "output_type": "stream",
     "text": [
      "Extracting fashion_mnist/FashionMNIST/raw/train-labels-idx1-ubyte.gz to fashion_mnist/FashionMNIST/raw\n",
      "\n",
      "Downloading http://fashion-mnist.s3-website.eu-central-1.amazonaws.com/t10k-images-idx3-ubyte.gz\n",
      "Downloading http://fashion-mnist.s3-website.eu-central-1.amazonaws.com/t10k-images-idx3-ubyte.gz to fashion_mnist/FashionMNIST/raw/t10k-images-idx3-ubyte.gz\n"
     ]
    },
    {
     "name": "stderr",
     "output_type": "stream",
     "text": [
      "100%|█████████████████████████████████████████████████████████████████████████████████████████████████████████████████████████████| 4.42M/4.42M [00:21<00:00, 202kB/s]\n"
     ]
    },
    {
     "name": "stdout",
     "output_type": "stream",
     "text": [
      "Extracting fashion_mnist/FashionMNIST/raw/t10k-images-idx3-ubyte.gz to fashion_mnist/FashionMNIST/raw\n",
      "\n",
      "Downloading http://fashion-mnist.s3-website.eu-central-1.amazonaws.com/t10k-labels-idx1-ubyte.gz\n",
      "Downloading http://fashion-mnist.s3-website.eu-central-1.amazonaws.com/t10k-labels-idx1-ubyte.gz to fashion_mnist/FashionMNIST/raw/t10k-labels-idx1-ubyte.gz\n"
     ]
    },
    {
     "name": "stderr",
     "output_type": "stream",
     "text": [
      "100%|████████████████████████████████████████████████████████████████████████████████████████████████████████████████████████████| 5.15k/5.15k [00:00<00:00, 3.64MB/s]"
     ]
    },
    {
     "name": "stdout",
     "output_type": "stream",
     "text": [
      "Extracting fashion_mnist/FashionMNIST/raw/t10k-labels-idx1-ubyte.gz to fashion_mnist/FashionMNIST/raw\n",
      "\n"
     ]
    },
    {
     "name": "stderr",
     "output_type": "stream",
     "text": [
      "\n"
     ]
    }
   ],
   "source": [
    "train = torchvision.datasets.FashionMNIST(\"fashion_mnist\", train=True, transform=torchvision.transforms.ToTensor(), download=True)"
   ]
  },
  {
   "cell_type": "code",
   "execution_count": 4,
   "metadata": {
    "id": "voM1DxvEAm9H"
   },
   "outputs": [],
   "source": [
    "dataloader = DataLoader(train, batch_size=16, shuffle=True)"
   ]
  },
  {
   "cell_type": "markdown",
   "metadata": {},
   "source": [
    "### Изначальный"
   ]
  },
  {
   "cell_type": "code",
   "execution_count": 51,
   "metadata": {
    "id": "Dsd-Z6vhAm9I"
   },
   "outputs": [],
   "source": [
    "class Generator(nn.Module):\n",
    "    def __init__(self):\n",
    "        super(Generator, self).__init__()\n",
    "        self.model = nn.Sequential(\n",
    "            nn.Linear(config.noise_size, 200),\n",
    "            nn.ReLU(inplace=True),\n",
    "            nn.Linear(200, 28*28),\n",
    "            nn.Sigmoid())\n",
    "\n",
    "    def forward(self, x):\n",
    "        return self.model(x)\n",
    "\n",
    "class Discriminator(nn.Module):\n",
    "    def __init__(self):\n",
    "        super(Discriminator, self).__init__()\n",
    "        self.model = nn.Sequential(\n",
    "            nn.Linear(28*28, 200),\n",
    "            nn.ReLU(inplace=True),\n",
    "            nn.Linear(200, 50),\n",
    "            nn.ReLU(inplace=True),\n",
    "            nn.Linear(50, 1),\n",
    "            nn.Sigmoid())\n",
    "    def forward(self, x):\n",
    "        return self.model(x)"
   ]
  },
  {
   "cell_type": "code",
   "execution_count": 52,
   "metadata": {
    "colab": {
     "base_uri": "https://localhost:8080/",
     "height": 936
    },
    "id": "w9jF0MABAm9J",
    "outputId": "968f9ed3-1b96-40b2-b8e0-f16f38b45260"
   },
   "outputs": [
    {
     "name": "stdout",
     "output_type": "stream",
     "text": [
      "\t[1/10] Traning...\n"
     ]
    },
    {
     "name": "stderr",
     "output_type": "stream",
     "text": [
      "100%|██████████████████████████████████████| 3750/3750 [00:08<00:00, 461.85it/s]\n"
     ]
    },
    {
     "name": "stdout",
     "output_type": "stream",
     "text": [
      "\t errD_x: 0.16 errD_z: 0.14 errG: 2.76\n",
      "\t[2/10] Traning...\n"
     ]
    },
    {
     "name": "stderr",
     "output_type": "stream",
     "text": [
      "100%|██████████████████████████████████████| 3750/3750 [00:08<00:00, 456.85it/s]\n"
     ]
    },
    {
     "name": "stdout",
     "output_type": "stream",
     "text": [
      "\t errD_x: 0.19 errD_z: 0.14 errG: 2.72\n",
      "\t[3/10] Traning...\n"
     ]
    },
    {
     "name": "stderr",
     "output_type": "stream",
     "text": [
      "100%|██████████████████████████████████████| 3750/3750 [00:07<00:00, 485.93it/s]\n"
     ]
    },
    {
     "name": "stdout",
     "output_type": "stream",
     "text": [
      "\t errD_x: 0.26 errD_z: 0.16 errG: 2.59\n",
      "\t[4/10] Traning...\n"
     ]
    },
    {
     "name": "stderr",
     "output_type": "stream",
     "text": [
      "100%|██████████████████████████████████████| 3750/3750 [00:07<00:00, 490.02it/s]\n"
     ]
    },
    {
     "name": "stdout",
     "output_type": "stream",
     "text": [
      "\t errD_x: 0.30 errD_z: 0.19 errG: 2.58\n",
      "\t[5/10] Traning...\n"
     ]
    },
    {
     "name": "stderr",
     "output_type": "stream",
     "text": [
      "100%|██████████████████████████████████████| 3750/3750 [00:07<00:00, 494.29it/s]\n"
     ]
    },
    {
     "name": "stdout",
     "output_type": "stream",
     "text": [
      "\t errD_x: 0.38 errD_z: 0.23 errG: 2.34\n",
      "\t[6/10] Traning...\n"
     ]
    },
    {
     "name": "stderr",
     "output_type": "stream",
     "text": [
      "100%|██████████████████████████████████████| 3750/3750 [00:07<00:00, 492.49it/s]\n"
     ]
    },
    {
     "name": "stdout",
     "output_type": "stream",
     "text": [
      "\t errD_x: 0.32 errD_z: 0.20 errG: 2.43\n",
      "\t[7/10] Traning...\n"
     ]
    },
    {
     "name": "stderr",
     "output_type": "stream",
     "text": [
      "100%|██████████████████████████████████████| 3750/3750 [00:07<00:00, 486.66it/s]\n"
     ]
    },
    {
     "name": "stdout",
     "output_type": "stream",
     "text": [
      "\t errD_x: 0.42 errD_z: 0.25 errG: 2.31\n",
      "\t[8/10] Traning...\n"
     ]
    },
    {
     "name": "stderr",
     "output_type": "stream",
     "text": [
      "100%|██████████████████████████████████████| 3750/3750 [00:07<00:00, 492.28it/s]\n"
     ]
    },
    {
     "name": "stdout",
     "output_type": "stream",
     "text": [
      "\t errD_x: 0.40 errD_z: 0.25 errG: 2.28\n",
      "\t[9/10] Traning...\n"
     ]
    },
    {
     "name": "stderr",
     "output_type": "stream",
     "text": [
      "100%|██████████████████████████████████████| 3750/3750 [00:07<00:00, 491.16it/s]\n"
     ]
    },
    {
     "name": "stdout",
     "output_type": "stream",
     "text": [
      "\t errD_x: 0.36 errD_z: 0.23 errG: 2.39\n",
      "\t[10/10] Traning...\n"
     ]
    },
    {
     "name": "stderr",
     "output_type": "stream",
     "text": [
      "100%|██████████████████████████████████████| 3750/3750 [00:07<00:00, 498.87it/s]\n"
     ]
    },
    {
     "name": "stdout",
     "output_type": "stream",
     "text": [
      "\t errD_x: 0.39 errD_z: 0.25 errG: 2.23\n"
     ]
    },
    {
     "data": {
      "image/png": "[encoded data removed]",
      "text/plain": [
       "<Figure size 600x700 with 16 Axes>"
      ]
     },
     "metadata": {},
     "output_type": "display_data"
    }
   ],
   "source": [
    "generator = Generator()\n",
    "discriminator = Discriminator()\n",
    "\n",
    "optim_G = optim.Adam(params=generator.parameters(), lr=0.0001)\n",
    "optim_D = optim.Adam(params=discriminator.parameters(), lr=0.0001)\n",
    "criterion = nn.BCELoss()\n",
    "\n",
    "input = Variable(torch.FloatTensor(config.batch_size, 28*28))\n",
    "noise = Variable(torch.FloatTensor(config.batch_size, config.noise_size))\n",
    "fixed_noise = Variable(torch.FloatTensor(config.batch_size, config.noise_size).normal_(0, 1))\n",
    "label = Variable(torch.FloatTensor(config.batch_size))\n",
    "real_label = 1\n",
    "fake_label = 0\n",
    "\n",
    "ERRD_x = np.zeros(config.num_epochs)\n",
    "ERRD_z = np.zeros(config.num_epochs)\n",
    "ERRG = np.zeros(config.num_epochs)\n",
    "N = len(dataloader)\n",
    "\n",
    "for epoch in range(config.num_epochs):\n",
    "    print(f'\\t[{(epoch+1)}/{config.num_epochs}] Traning...')\n",
    "\n",
    "    errD_xs = []\n",
    "    errD_zs = []\n",
    "    errGs = []\n",
    "\n",
    "    for images, cat in tqdm(dataloader):\n",
    "        # Discriminator stage: maximize log(D(x)) + log(1 - D(G(z)))\n",
    "        discriminator.zero_grad()\n",
    "\n",
    "        # real\n",
    "        label.data.fill_(real_label)\n",
    "        input_data = images.view(images.shape[0], -1)\n",
    "        output = discriminator(input_data)\n",
    "        errD_x = criterion(output, label.view(16, 1))\n",
    "        ERRD_x[epoch] += errD_x.item()\n",
    "        errD_x.backward()\n",
    "\n",
    "        # fake\n",
    "        noise.data.normal_(0, 1)\n",
    "        fake = generator(noise)\n",
    "        label.data.fill_(fake_label)\n",
    "        output = discriminator(fake.detach())\n",
    "        errD_z = criterion(output, label.view(16, 1))\n",
    "        ERRD_z[epoch] += errD_z.item()\n",
    "        errD_z.backward()\n",
    "\n",
    "        optim_D.step()\n",
    "        # Generator stage: maximize log(D(G(x))\n",
    "        generator.zero_grad()\n",
    "        label.data.fill_(real_label)\n",
    "        output = discriminator(fake)\n",
    "        errG = criterion(output, label.view(16, 1))\n",
    "        ERRG[epoch] += errG.item()\n",
    "        errG.backward()\n",
    "        optim_G.step()\n",
    "\n",
    "        errD_xs.append(errD_x.item())\n",
    "        errD_zs.append(errD_z.item())\n",
    "        errGs.append(errG.item())\n",
    "    \n",
    "    print(\n",
    "        f'\\t',\n",
    "        f'errD_x: {np.mean(errD_xs):.2f}',\n",
    "        f'errD_z: {np.mean(errD_zs):.2f}',\n",
    "        f'errG: {np.mean(errGs):.2f}'\n",
    "    )\n",
    "\n",
    "noise.data.normal_(0, 1)\n",
    "fake = generator(noise)\n",
    "\n",
    "plt.figure(figsize=(6, 7))\n",
    "for i in range(16):\n",
    "    plt.subplot(4, 4, i + 1)\n",
    "    plt.imshow(fake[i].detach().numpy().reshape(28, 28), cmap=plt.cm.Greys_r)\n",
    "    plt.axis('off')"
   ]
  },
  {
   "cell_type": "markdown",
   "metadata": {},
   "source": [
    "### Wasserstein GAN"
   ]
  },
  {
   "cell_type": "code",
   "execution_count": 53,
   "metadata": {},
   "outputs": [],
   "source": [
    "class Generator(nn.Module):\n",
    "    def __init__(self):\n",
    "        super(Generator, self).__init__()\n",
    "        self.model = nn.Sequential(\n",
    "            nn.Linear(config.noise_size, 200),\n",
    "            nn.ReLU(inplace=True),\n",
    "            nn.Linear(200, 28*28),\n",
    "            nn.Sigmoid())  # Изменить на Tanh для нормализации выходного диапазона\n",
    "\n",
    "    def forward(self, x):\n",
    "        return self.model(x)\n",
    "\n",
    "class Discriminator(nn.Module):\n",
    "    def __init__(self):\n",
    "        super(Discriminator, self).__init__()\n",
    "        self.model = nn.Sequential(\n",
    "            nn.Linear(28*28, 200),\n",
    "            nn.ReLU(inplace=True),\n",
    "            nn.Linear(200, 50),\n",
    "            nn.ReLU(inplace=True),\n",
    "            nn.Linear(50, 1),\n",
    "            nn.Sigmoid()\n",
    "        )  \n",
    "\n",
    "    def forward(self, x):\n",
    "        return self.model(x)\n",
    "\n",
    "    def weight_clipping(self, min_weight=-0.01, max_weight=0.01):\n",
    "        for param in self.parameters():\n",
    "            param.data.clamp_(min_weight, max_weight)"
   ]
  },
  {
   "cell_type": "code",
   "execution_count": 55,
   "metadata": {
    "colab": {
     "base_uri": "https://localhost:8080/",
     "height": 936
    },
    "id": "w9jF0MABAm9J",
    "outputId": "968f9ed3-1b96-40b2-b8e0-f16f38b45260"
   },
   "outputs": [
    {
     "name": "stdout",
     "output_type": "stream",
     "text": [
      "\t[1/10] Traning...\n"
     ]
    },
    {
     "name": "stderr",
     "output_type": "stream",
     "text": [
      "100%|██████████████████████████████████████| 3750/3750 [00:09<00:00, 400.58it/s]\n"
     ]
    },
    {
     "name": "stdout",
     "output_type": "stream",
     "text": [
      "\t errD_x: 0.67 errD_z: 0.69 errG: 0.70\n",
      "\t[2/10] Traning...\n"
     ]
    },
    {
     "name": "stderr",
     "output_type": "stream",
     "text": [
      "100%|██████████████████████████████████████| 3750/3750 [00:08<00:00, 440.47it/s]\n"
     ]
    },
    {
     "name": "stdout",
     "output_type": "stream",
     "text": [
      "\t errD_x: 0.68 errD_z: 0.69 errG: 0.70\n",
      "\t[3/10] Traning...\n"
     ]
    },
    {
     "name": "stderr",
     "output_type": "stream",
     "text": [
      "100%|██████████████████████████████████████| 3750/3750 [00:08<00:00, 459.61it/s]\n"
     ]
    },
    {
     "name": "stdout",
     "output_type": "stream",
     "text": [
      "\t errD_x: 0.69 errD_z: 0.69 errG: 0.70\n",
      "\t[4/10] Traning...\n"
     ]
    },
    {
     "name": "stderr",
     "output_type": "stream",
     "text": [
      "100%|██████████████████████████████████████| 3750/3750 [00:08<00:00, 433.30it/s]\n"
     ]
    },
    {
     "name": "stdout",
     "output_type": "stream",
     "text": [
      "\t errD_x: 0.69 errD_z: 0.69 errG: 0.70\n",
      "\t[5/10] Traning...\n"
     ]
    },
    {
     "name": "stderr",
     "output_type": "stream",
     "text": [
      "100%|██████████████████████████████████████| 3750/3750 [00:08<00:00, 421.99it/s]\n"
     ]
    },
    {
     "name": "stdout",
     "output_type": "stream",
     "text": [
      "\t errD_x: 0.69 errD_z: 0.69 errG: 0.70\n",
      "\t[6/10] Traning...\n"
     ]
    },
    {
     "name": "stderr",
     "output_type": "stream",
     "text": [
      "100%|██████████████████████████████████████| 3750/3750 [00:08<00:00, 455.54it/s]\n"
     ]
    },
    {
     "name": "stdout",
     "output_type": "stream",
     "text": [
      "\t errD_x: 0.69 errD_z: 0.69 errG: 0.69\n",
      "\t[7/10] Traning...\n"
     ]
    },
    {
     "name": "stderr",
     "output_type": "stream",
     "text": [
      "100%|██████████████████████████████████████| 3750/3750 [00:08<00:00, 435.68it/s]\n"
     ]
    },
    {
     "name": "stdout",
     "output_type": "stream",
     "text": [
      "\t errD_x: 0.69 errD_z: 0.69 errG: 0.69\n",
      "\t[8/10] Traning...\n"
     ]
    },
    {
     "name": "stderr",
     "output_type": "stream",
     "text": [
      "100%|██████████████████████████████████████| 3750/3750 [00:08<00:00, 428.84it/s]\n"
     ]
    },
    {
     "name": "stdout",
     "output_type": "stream",
     "text": [
      "\t errD_x: 0.69 errD_z: 0.69 errG: 0.69\n",
      "\t[9/10] Traning...\n"
     ]
    },
    {
     "name": "stderr",
     "output_type": "stream",
     "text": [
      "100%|██████████████████████████████████████| 3750/3750 [00:08<00:00, 468.29it/s]\n"
     ]
    },
    {
     "name": "stdout",
     "output_type": "stream",
     "text": [
      "\t errD_x: 0.69 errD_z: 0.69 errG: 0.69\n",
      "\t[10/10] Traning...\n"
     ]
    },
    {
     "name": "stderr",
     "output_type": "stream",
     "text": [
      "100%|██████████████████████████████████████| 3750/3750 [00:08<00:00, 421.81it/s]\n"
     ]
    },
    {
     "name": "stdout",
     "output_type": "stream",
     "text": [
      "\t errD_x: 0.69 errD_z: 0.69 errG: 0.69\n"
     ]
    },
    {
     "data": {
      "image/png": "[encoded data removed]",
      "text/plain": [
       "<Figure size 600x700 with 16 Axes>"
      ]
     },
     "metadata": {},
     "output_type": "display_data"
    }
   ],
   "source": [
    "generator = Generator()\n",
    "discriminator = Discriminator()\n",
    "\n",
    "optim_G = optim.Adam(params=generator.parameters(), lr=0.0001)\n",
    "optim_D = optim.Adam(params=discriminator.parameters(), lr=0.0001)\n",
    "criterion = nn.BCELoss()\n",
    "\n",
    "input = Variable(torch.FloatTensor(config.batch_size, 28*28))\n",
    "noise = Variable(torch.FloatTensor(config.batch_size, config.noise_size))\n",
    "fixed_noise = Variable(torch.FloatTensor(config.batch_size, config.noise_size).normal_(0, 1))\n",
    "label = Variable(torch.FloatTensor(config.batch_size))\n",
    "real_label = 1\n",
    "fake_label = 0\n",
    "\n",
    "ERRD_x = np.zeros(config.num_epochs)\n",
    "ERRD_z = np.zeros(config.num_epochs)\n",
    "ERRG = np.zeros(config.num_epochs)\n",
    "N = len(dataloader)\n",
    "\n",
    "for epoch in range(config.num_epochs):\n",
    "    print(f'\\t[{(epoch+1)}/{config.num_epochs}] Traning...')\n",
    "\n",
    "    errD_xs = []\n",
    "    errD_zs = []\n",
    "    errGs = []\n",
    "\n",
    "    for images, cat in tqdm(dataloader):\n",
    "        # Discriminator stage: maximize log(D(x)) + log(1 - D(G(z)))\n",
    "        discriminator.zero_grad()\n",
    "\n",
    "        # real\n",
    "        label.data.fill_(real_label)\n",
    "        input_data = images.view(images.shape[0], -1)\n",
    "        output = discriminator(input_data)\n",
    "        errD_x = criterion(output, label.view(16, 1))\n",
    "        ERRD_x[epoch] += errD_x.item()\n",
    "        errD_x.backward()\n",
    "\n",
    "        # fake\n",
    "        noise.data.normal_(0, 1)\n",
    "        fake = generator(noise)\n",
    "        label.data.fill_(fake_label)\n",
    "        output = discriminator(fake.detach())\n",
    "        errD_z = criterion(output, label.view(16, 1))\n",
    "        ERRD_z[epoch] += errD_z.item()\n",
    "        errD_z.backward()\n",
    "        optim_D.step()\n",
    "        discriminator.weight_clipping()  # Добавляем\n",
    "\n",
    "        # Generator stage: maximize log(D(G(x))\n",
    "        generator.zero_grad()\n",
    "        label.data.fill_(real_label)\n",
    "        output = discriminator(fake)\n",
    "        errG = criterion(output, label.view(16, 1))\n",
    "        ERRG[epoch] += errG.item()\n",
    "        errG.backward()\n",
    "        optim_G.step()\n",
    "\n",
    "        errD_xs.append(errD_x.item())\n",
    "        errD_zs.append(errD_z.item())\n",
    "        errGs.append(errG.item())\n",
    "    \n",
    "    print(\n",
    "        f'\\t',\n",
    "        f'errD_x: {np.mean(errD_xs):.2f}',\n",
    "        f'errD_z: {np.mean(errD_zs):.2f}',\n",
    "        f'errG: {np.mean(errGs):.2f}'\n",
    "    )\n",
    "\n",
    "noise.data.normal_(0, 1)\n",
    "fake = generator(noise)\n",
    "\n",
    "plt.figure(figsize=(6, 7))\n",
    "for i in range(16):\n",
    "    plt.subplot(4, 4, i + 1)\n",
    "    plt.imshow(fake[i].detach().numpy().reshape(28, 28), cmap=plt.cm.Greys_r)\n",
    "    plt.axis('off')"
   ]
  },
  {
   "cell_type": "markdown",
   "metadata": {},
   "source": [
    "### Замена на gradient penalty"
   ]
  },
  {
   "cell_type": "code",
   "execution_count": 94,
   "metadata": {},
   "outputs": [],
   "source": [
    "LAMBDA = 10\n",
    "\n",
    "class Generator(nn.Module):\n",
    "    def __init__(self):\n",
    "        super(Generator, self).__init__()\n",
    "        self.model = nn.Sequential(\n",
    "            nn.Linear(config.noise_size, 200),\n",
    "            nn.ReLU(inplace=True),\n",
    "            nn.Linear(200, 28*28),\n",
    "            nn.Sigmoid())\n",
    "\n",
    "    def forward(self, x):\n",
    "        return self.model(x)\n",
    "\n",
    "class Discriminator(nn.Module):\n",
    "    def __init__(self):\n",
    "        super(Discriminator, self).__init__()\n",
    "        self.model = nn.Sequential(\n",
    "            nn.Linear(28*28, 200),\n",
    "            nn.ReLU(inplace=True),\n",
    "            nn.Linear(200, 50),\n",
    "            nn.ReLU(inplace=True),\n",
    "            nn.Linear(50, 1),\n",
    "            nn.Sigmoid())  \n",
    "\n",
    "    def forward(self, x):\n",
    "        return self.model(x)\n",
    "\n",
    "def gradient_penalty(netD, real_data, fake_data):\n",
    "    alpha = torch.rand(16, 1)\n",
    "    alpha = alpha.expand(real_data.size())\n",
    "\n",
    "    interpolates = alpha * real_data + ((1 - alpha) * fake_data)\n",
    "    interpolates = Variable(interpolates, requires_grad=True)\n",
    "\n",
    "    disc_interpolates = netD(interpolates)\n",
    "\n",
    "    gradients = autograd.grad(outputs=disc_interpolates,\n",
    "                              inputs=interpolates,\n",
    "                              grad_outputs=torch.ones(disc_interpolates.size()),\n",
    "                              create_graph=True,\n",
    "                              retain_graph=True,\n",
    "                              only_inputs=True)[0]\n",
    "\n",
    "    gradient_penalty = ((gradients.norm(2, dim=1) - 1) ** 2).mean() * LAMBDA\n",
    "    return gradient_penalty"
   ]
  },
  {
   "cell_type": "code",
   "execution_count": 95,
   "metadata": {
    "colab": {
     "base_uri": "https://localhost:8080/",
     "height": 936
    },
    "id": "w9jF0MABAm9J",
    "outputId": "968f9ed3-1b96-40b2-b8e0-f16f38b45260"
   },
   "outputs": [
    {
     "name": "stdout",
     "output_type": "stream",
     "text": [
      "\t[1/10] Traning...\n"
     ]
    },
    {
     "name": "stderr",
     "output_type": "stream",
     "text": [
      "100%|██████████████████████████████████████| 3750/3750 [00:10<00:00, 349.85it/s]\n"
     ]
    },
    {
     "name": "stdout",
     "output_type": "stream",
     "text": [
      "\t errD_x: 0.49 errD_z: 0.68 errG: 0.74\n",
      "\t[2/10] Traning...\n"
     ]
    },
    {
     "name": "stderr",
     "output_type": "stream",
     "text": [
      "100%|██████████████████████████████████████| 3750/3750 [00:10<00:00, 363.17it/s]\n"
     ]
    },
    {
     "name": "stdout",
     "output_type": "stream",
     "text": [
      "\t errD_x: 0.35 errD_z: 0.67 errG: 0.73\n",
      "\t[3/10] Traning...\n"
     ]
    },
    {
     "name": "stderr",
     "output_type": "stream",
     "text": [
      "100%|██████████████████████████████████████| 3750/3750 [00:10<00:00, 362.88it/s]\n"
     ]
    },
    {
     "name": "stdout",
     "output_type": "stream",
     "text": [
      "\t errD_x: 0.35 errD_z: 0.64 errG: 0.78\n",
      "\t[4/10] Traning...\n"
     ]
    },
    {
     "name": "stderr",
     "output_type": "stream",
     "text": [
      "100%|██████████████████████████████████████| 3750/3750 [00:11<00:00, 339.09it/s]\n"
     ]
    },
    {
     "name": "stdout",
     "output_type": "stream",
     "text": [
      "\t errD_x: 0.38 errD_z: 0.73 errG: 0.71\n",
      "\t[5/10] Traning...\n"
     ]
    },
    {
     "name": "stderr",
     "output_type": "stream",
     "text": [
      "100%|██████████████████████████████████████| 3750/3750 [00:10<00:00, 363.58it/s]\n"
     ]
    },
    {
     "name": "stdout",
     "output_type": "stream",
     "text": [
      "\t errD_x: 0.37 errD_z: 0.47 errG: 1.05\n",
      "\t[6/10] Traning...\n"
     ]
    },
    {
     "name": "stderr",
     "output_type": "stream",
     "text": [
      "100%|██████████████████████████████████████| 3750/3750 [00:10<00:00, 360.89it/s]\n"
     ]
    },
    {
     "name": "stdout",
     "output_type": "stream",
     "text": [
      "\t errD_x: 0.34 errD_z: 0.43 errG: 1.14\n",
      "\t[7/10] Traning...\n"
     ]
    },
    {
     "name": "stderr",
     "output_type": "stream",
     "text": [
      "100%|██████████████████████████████████████| 3750/3750 [00:10<00:00, 354.50it/s]\n"
     ]
    },
    {
     "name": "stdout",
     "output_type": "stream",
     "text": [
      "\t errD_x: 0.41 errD_z: 0.47 errG: 1.06\n",
      "\t[8/10] Traning...\n"
     ]
    },
    {
     "name": "stderr",
     "output_type": "stream",
     "text": [
      "100%|██████████████████████████████████████| 3750/3750 [00:10<00:00, 360.67it/s]\n"
     ]
    },
    {
     "name": "stdout",
     "output_type": "stream",
     "text": [
      "\t errD_x: 0.40 errD_z: 0.46 errG: 1.08\n",
      "\t[9/10] Traning...\n"
     ]
    },
    {
     "name": "stderr",
     "output_type": "stream",
     "text": [
      "100%|██████████████████████████████████████| 3750/3750 [00:10<00:00, 360.53it/s]\n"
     ]
    },
    {
     "name": "stdout",
     "output_type": "stream",
     "text": [
      "\t errD_x: 0.40 errD_z: 0.47 errG: 1.06\n",
      "\t[10/10] Traning...\n"
     ]
    },
    {
     "name": "stderr",
     "output_type": "stream",
     "text": [
      "100%|██████████████████████████████████████| 3750/3750 [00:10<00:00, 363.44it/s]\n"
     ]
    },
    {
     "name": "stdout",
     "output_type": "stream",
     "text": [
      "\t errD_x: 0.41 errD_z: 0.47 errG: 1.06\n"
     ]
    },
    {
     "data": {
      "image/png": "[encoded data removed]",
      "text/plain": [
       "<Figure size 600x700 with 16 Axes>"
      ]
     },
     "metadata": {},
     "output_type": "display_data"
    }
   ],
   "source": [
    "generator = Generator()\n",
    "discriminator = Discriminator()\n",
    "\n",
    "optim_G = optim.Adam(params=generator.parameters(), lr=0.0001)\n",
    "optim_D = optim.Adam(params=discriminator.parameters(), lr=0.0001)\n",
    "criterion = nn.BCELoss()\n",
    "\n",
    "input = Variable(torch.FloatTensor(config.batch_size, 28*28))\n",
    "noise = Variable(torch.FloatTensor(config.batch_size, config.noise_size))\n",
    "fixed_noise = Variable(torch.FloatTensor(config.batch_size, config.noise_size).normal_(0, 1))\n",
    "label = Variable(torch.FloatTensor(config.batch_size))\n",
    "real_label = 1\n",
    "fake_label = 0\n",
    "\n",
    "ERRD_x = np.zeros(config.num_epochs)\n",
    "ERRD_z = np.zeros(config.num_epochs)\n",
    "ERRG = np.zeros(config.num_epochs)\n",
    "N = len(dataloader)\n",
    "\n",
    "for epoch in range(config.num_epochs):\n",
    "    print(f'\\t[{(epoch+1)}/{config.num_epochs}] Traning...')\n",
    "\n",
    "    errD_xs = []\n",
    "    errD_zs = []\n",
    "    errGs = []\n",
    "\n",
    "    for images, cat in tqdm(dataloader):\n",
    "        # Discriminator stage: maximize log(D(x)) + log(1 - D(G(z)))\n",
    "        discriminator.zero_grad()\n",
    "\n",
    "        # real\n",
    "        label.data.fill_(real_label)\n",
    "        input_data = images.view(images.shape[0], -1)\n",
    "        output = discriminator(input_data)\n",
    "        errD_x = criterion(output, label.view(16, 1))\n",
    "        ERRD_x[epoch] += errD_x.item()\n",
    "        errD_x.backward()\n",
    "\n",
    "        # fake\n",
    "        noise.data.normal_(0, 1)\n",
    "        fake = generator(noise)\n",
    "        label.data.fill_(fake_label)\n",
    "        output = discriminator(fake.detach())\n",
    "        errD_z = criterion(output, label.view(16, 1))\n",
    "        ERRD_z[epoch] += errD_z.item()\n",
    "        errD_z.backward()\n",
    "\n",
    "        loss = gradient_penalty(discriminator, input_data, fake.detach())\n",
    "        loss.backward()\n",
    "\n",
    "        optim_D.step()\n",
    "        \n",
    "        # Generator stage: maximize log(D(G(x))\n",
    "        generator.zero_grad()\n",
    "        label.data.fill_(real_label)\n",
    "        output = discriminator(fake)\n",
    "        errG = criterion(output, label.view(16, 1))\n",
    "        ERRG[epoch] += errG.item()\n",
    "        errG.backward()\n",
    "        optim_G.step()\n",
    "\n",
    "        errD_xs.append(errD_x.item())\n",
    "        errD_zs.append(errD_z.item())\n",
    "        errGs.append(errG.item())\n",
    "    \n",
    "    print(\n",
    "        f'\\t',\n",
    "        f'errD_x: {np.mean(errD_xs):.2f}',\n",
    "        f'errD_z: {np.mean(errD_zs):.2f}',\n",
    "        f'errG: {np.mean(errGs):.2f}'\n",
    "    )\n",
    "\n",
    "noise.data.normal_(0, 1)\n",
    "fake = generator(noise)\n",
    "\n",
    "plt.figure(figsize=(6, 7))\n",
    "for i in range(16):\n",
    "    plt.subplot(4, 4, i + 1)\n",
    "    plt.imshow(fake[i].detach().numpy().reshape(28, 28), cmap=plt.cm.Greys_r)\n",
    "    plt.axis('off')"
   ]
  },
  {
   "cell_type": "markdown",
   "metadata": {},
   "source": [
    "### Метки\n",
    "\n",
    "С метками не успевал выполнить."
   ]
  },
  {
   "cell_type": "markdown",
   "metadata": {},
   "source": [
    "## Вывод\n",
    "\n",
    "1) Пощупал GAN\n",
    "\n",
    "2) в WGAN не подбирал параметры, если подобрать результат будет лучше\n",
    "\n",
    "3) GAN-GP проявил себя не очень хорошо, думаю это связанно из за переобучения.\n",
    "\n",
    "Задание с метками не успевал выполнить."
   ]
  }
 ],
 "metadata": {
  "anaconda-cloud": {},
  "colab": {
   "provenance": []
  },
  "kernelspec": {
   "display_name": "Python 3 (ipykernel)",
   "language": "python",
   "name": "python3"
  },
  "language_info": {
   "codemirror_mode": {
    "name": "ipython",
    "version": 3
   },
   "file_extension": ".py",
   "mimetype": "text/x-python",
   "name": "python",
   "nbconvert_exporter": "python",
   "pygments_lexer": "ipython3",
   "version": "3.9.6"
  }
 },
 "nbformat": 4,
 "nbformat_minor": 4
}
